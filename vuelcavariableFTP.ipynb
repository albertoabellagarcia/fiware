{
 "cells": [
  {
   "cell_type": "code",
   "execution_count": null,
   "metadata": {},
   "outputs": [],
   "source": [
    "def vuelcaVariableFTP(variable, fichero, ftp_path, ftp_user, ftp_pass):\n",
    "    #vuelca una variable o diccionario a un ftp (la fila de títulos de cabecera hay que ponerla aparte antes)\n",
    "    import ftputil\n",
    "    import requests\n",
    "    #variable es la variable con el contenido a guardar\n",
    "    #fichero es el nombre del fichero \n",
    "    host= ftputil.FTPHost(ftp_path, ftp_user, ftp_pass)\n",
    "    \n",
    "    content=\"\"\n",
    "    for linea in variable:\n",
    "        if (type(linea) is dict):\n",
    "            for elemento in linea:\n",
    "                content=content+chr(34)+str(linea[elemento])+chr(34)+\";\"\n",
    "            content=content[:-1]\n",
    "            content=content+chr(10)\n",
    "            \n",
    "        else:\n",
    "            for elemento in linea:\n",
    "                content=content+chr(34)+str(elemento)+chr(34)+\";\"\n",
    "            content=content[:-1]\n",
    "            content=content+chr(10)\n",
    "    \n",
    "    try:\n",
    "        with host.open(fichero, \"w\") as target:\n",
    "            target.write(content)\n",
    "            print(\"He podido guardar\")\n",
    "\n",
    "    except:\n",
    "        print(\"no he podido copiar el fichero del directorio \"+ftp_path)"
   ]
  }
 ],
 "metadata": {
  "kernelspec": {
   "display_name": "Python 3",
   "language": "python",
   "name": "python3"
  },
  "language_info": {
   "codemirror_mode": {
    "name": "ipython",
    "version": 3
   },
   "file_extension": ".py",
   "mimetype": "text/x-python",
   "name": "python",
   "nbconvert_exporter": "python",
   "pygments_lexer": "ipython3",
   "version": "3.6.8"
  }
 },
 "nbformat": 4,
 "nbformat_minor": 2
}
