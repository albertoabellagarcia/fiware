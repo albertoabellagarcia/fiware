{
 "cells": [
  {
   "cell_type": "code",
   "execution_count": 35,
   "metadata": {},
   "outputs": [
    {
     "data": {
      "text/plain": [
       "'n'"
      ]
     },
     "execution_count": 35,
     "metadata": {},
     "output_type": "execute_result"
    }
   ],
   "source": [
    "def find_trozo(texto, key_busqueda, key_inicio, key_final, inicio_busqueda, fin_busqueda ):\n",
    "#elemento a buscar y variables para extraccion del título desde la página\n",
    "#inicio_busqueda es el punto desde donde tiene que empezar a buscar dentro de la cadena TEXTO en caso de no tener poner -1\n",
    "#fin_busqueda es el punto desde donde tiene que dejar de buscar dentro de la cadena TEXTO en caso de no tener poner -1\n",
    "    if (fin_busqueda==-1):\n",
    "        fin_busqueda=len(texto)\n",
    "    if (inicio_busqueda==-1):\n",
    "        inicio_busqueda=0\n",
    "    texto_enque_buscar=texto[inicio_busqueda:fin_busqueda]\n",
    "    #print(\"el texto en que buscar es \")\n",
    "    #print(texto_enque_buscar)\n",
    "    hay_trozo=texto_enque_buscar.find(key_busqueda)\n",
    "    if (hay_trozo !=-1):\n",
    "        #print(\"hay_trozo=\"+str(hay_trozo))\n",
    "        inicio_trozo=texto_enque_buscar.find(key_inicio,hay_trozo+len(key_busqueda))\n",
    "        if (inicio_trozo==-1):\n",
    "            raw_trozo=-1\n",
    "            #print(\"No encontre la clave de inicio\")\n",
    "        else:\n",
    "            fin_trozo=texto_enque_buscar.find(key_final,inicio_trozo+len(key_inicio))\n",
    "            if(fin_trozo==-1):\n",
    "                raw_trozo=-1\n",
    "            else:\n",
    "                raw_trozo=texto_enque_buscar[inicio_trozo+len(key_inicio):fin_trozo]\n",
    "    else:\n",
    "        raw_trozo=-1\n",
    "\n",
    "    return (raw_trozo)\n",
    "\n",
    "find_trozo(\"esto es un texto de prueba para la prueba de la funcion\", \"la\",\"funcio\",\"opop\")"
   ]
  },
  {
   "cell_type": "code",
   "execution_count": null,
   "metadata": {},
   "outputs": [],
   "source": []
  }
 ],
 "metadata": {
  "kernelspec": {
   "display_name": "Python 3",
   "language": "python",
   "name": "python3"
  },
  "language_info": {
   "codemirror_mode": {
    "name": "ipython",
    "version": 3
   },
   "file_extension": ".py",
   "mimetype": "text/x-python",
   "name": "python",
   "nbconvert_exporter": "python",
   "pygments_lexer": "ipython3",
   "version": "3.6.8"
  }
 },
 "nbformat": 4,
 "nbformat_minor": 2
}
