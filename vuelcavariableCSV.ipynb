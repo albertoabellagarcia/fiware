{
 "cells": [
  {
   "cell_type": "code",
   "execution_count": 19,
   "metadata": {},
   "outputs": [],
   "source": [
    "#version 20200114\n",
    "def vuelcaVariableCSV(variable, fileName, path):\n",
    "    #vuelca una variable o diccionario a un ftp (la fila de títulos de cabecera hay que ponerla aparte antes)\n",
    "    import requests\n",
    "    #variable es la variable con el contenido a guardar\n",
    "    #fichero es el nombre del fichero \n",
    "    if (path==\"\"):\n",
    "        path=\"./\"\n",
    "    fichero=open(path+fileName, \"w\")\n",
    "    \n",
    "    content=\"\"\n",
    "    for linea in variable:\n",
    "        if (type(linea) is dict):\n",
    "            for elemento in linea:\n",
    "                content=content+chr(34)+str(linea[elemento])+chr(34)+\";\"\n",
    "            content=content[:-1]\n",
    "            content=content+chr(10)\n",
    "            \n",
    "        else:\n",
    "            print(type(linea))\n",
    "            if (type(linea)==type(1)): # it is an integer\n",
    "                content=content+chr(34)+str(linea)+chr(34)+\";\"\n",
    "            else:\n",
    "                for elemento in linea:\n",
    "                    content=content+chr(34)+str(elemento)+chr(34)+\";\"\n",
    "            content=content[:-1]\n",
    "            content=content+chr(10)\n",
    "    \n",
    "    try:\n",
    "        fichero.write(content)\n",
    "        print(\"He podido guardar\")\n",
    "\n",
    "    except:\n",
    "        print(\"no he podido copiar el fichero del directorio \"+path)"
   ]
  }
 ],
 "metadata": {
  "kernelspec": {
   "display_name": "Python 3",
   "language": "python",
   "name": "python3"
  },
  "language_info": {
   "codemirror_mode": {
    "name": "ipython",
    "version": 3
   },
   "file_extension": ".py",
   "mimetype": "text/x-python",
   "name": "python",
   "nbconvert_exporter": "python",
   "pygments_lexer": "ipython3",
   "version": "3.7.4"
  }
 },
 "nbformat": 4,
 "nbformat_minor": 2
}
