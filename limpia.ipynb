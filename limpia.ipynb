{
 "cells": [
  {
   "cell_type": "code",
   "execution_count": null,
   "metadata": {},
   "outputs": [],
   "source": [
    "# caracteres a identificar y sustituir en los textos recuperados. Se usan en la funcion limpia()\n",
    "html_entities=[\"&#225;\",\"&#237;\", \"&nbsp;\",\"\\n\",\"\\t\",\"\\r\",\"</p>\",\"\\\\r\",\"\\\\n\"]\n",
    "caracteres=[\"á\",\"í\",\" \", \"\",\"\",\"\",\" \",\"\",\"\"]\n",
    "\n",
    "def limpia(text):\n",
    "#elimina grupos de caracteres (entidades html)\n",
    "#version 20191210\n",
    "    chars = html_entities\n",
    "    for c in range(len(chars)):\n",
    "        text = text.replace(html_entities[c],caracteres[c] )\n",
    "    return (text)"
   ]
  }
 ],
 "metadata": {
  "kernelspec": {
   "display_name": "Python 3",
   "language": "python",
   "name": "python3"
  },
  "language_info": {
   "codemirror_mode": {
    "name": "ipython",
    "version": 3
   },
   "file_extension": ".py",
   "mimetype": "text/x-python",
   "name": "python",
   "nbconvert_exporter": "python",
   "pygments_lexer": "ipython3",
   "version": "3.6.8"
  }
 },
 "nbformat": 4,
 "nbformat_minor": 2
}
