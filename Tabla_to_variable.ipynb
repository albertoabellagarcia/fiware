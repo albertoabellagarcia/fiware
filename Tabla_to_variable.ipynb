{
 "cells": [
  {
   "cell_type": "code",
   "execution_count": null,
   "metadata": {},
   "outputs": [],
   "source": [
    "def Table_to_Variable(id_Table, html_source):\n",
    "    #recovers the content of a html table and scraps it into a variable\n",
    "    table_content=[]\n",
    "    table_content.append([])\n",
    "    row_counter=-1\n",
    "    table = html_source.find(id=id_Table)\n",
    "    rows = table.findChildren('tr')\n",
    "    #print(rows)\n",
    "    for row in rows:\n",
    "        #print(\"encontradas filas len(rows)\"+str(len(rows)))\n",
    "        row_counter=row_counter+1\n",
    "        #print(\"fila row_counter=\"+str(row_counter))\n",
    "        #print(row)\n",
    "        cells = row.findChildren('td')\n",
    "        #print(\"encontradas celdas, len(cells)\"+str(len(cells)))\n",
    "        table_content.append([])\n",
    "        cell_count=0\n",
    "        for cell in cells:\n",
    "            cell_content = cell.getText()\n",
    "            table_content[row_counter].append(cell_content)\n",
    "            #print(cell_content)           \n",
    "            cell_count=cell_count+1\n",
    "            #print(\"celda\"+str(cell_count))\n",
    "        \n",
    "    del table_content[0]\n",
    "    del table_content[len(table_content)-1]\n",
    "    print(table_content)\n",
    "    return (table_content)"
   ]
  }
 ],
 "metadata": {
  "kernelspec": {
   "display_name": "Python 3",
   "language": "python",
   "name": "python3"
  },
  "language_info": {
   "codemirror_mode": {
    "name": "ipython",
    "version": 3
   },
   "file_extension": ".py",
   "mimetype": "text/x-python",
   "name": "python",
   "nbconvert_exporter": "python",
   "pygments_lexer": "ipython3",
   "version": "3.6.8"
  }
 },
 "nbformat": 4,
 "nbformat_minor": 2
}
