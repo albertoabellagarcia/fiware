{
 "cells": [
  {
   "cell_type": "code",
   "execution_count": null,
   "metadata": {},
   "outputs": [],
   "source": [
    "def quita_puntoycomas(text):\n",
    "#quita los ; para poder guardar los ficheros de forma consistente y sin saltos\n",
    "#version 20191210\n",
    "    cadena_con_puntoycomas=str(text)\n",
    "    cadena_sin_comillas=cadena_con_puntoycomas.replace(chr(34), \"'\")\n",
    "    cadena_sin_puntoycomas = cadena_sin_comillas.replace(\";\", \",\")\n",
    "    return(cadena_sin_puntoycomas)"
   ]
  }
 ],
 "metadata": {
  "kernelspec": {
   "display_name": "Python 3",
   "language": "python",
   "name": "python3"
  },
  "language_info": {
   "codemirror_mode": {
    "name": "ipython",
    "version": 3
   },
   "file_extension": ".py",
   "mimetype": "text/x-python",
   "name": "python",
   "nbconvert_exporter": "python",
   "pygments_lexer": "ipython3",
   "version": "3.6.8"
  }
 },
 "nbformat": 4,
 "nbformat_minor": 2
}
