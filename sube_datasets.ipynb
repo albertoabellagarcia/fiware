{
 "cells": [
  {
   "cell_type": "code",
   "execution_count": 2,
   "metadata": {},
   "outputs": [
    {
     "name": "stdout",
     "output_type": "stream",
     "text": [
      "b'{\"help\": \"http://15.188.12.227/api/3/action/help_show?name=resource_create\", \"success\": true, \"result\": {\"cache_last_updated\": null, \"package_id\": \"b7993f60-7d8b-4a17-8056-4e1cc8ee786b\", \"datastore_active\": false, \"id\": \"a1a8f97d-dd9e-48db-a24f-6d8f43caecc5\", \"size\": 3761, \"state\": \"active\", \"hash\": \"\", \"description\": \"\", \"format\": \"CSV\", \"mimetype_inner\": null, \"url_type\": \"upload\", \"mimetype\": \"text/csv\", \"cache_url\": null, \"name\": \"recursos\", \"created\": \"2019-12-05T00:06:05.268014\", \"url\": \"http://15.188.12.227/dataset/b7993f60-7d8b-4a17-8056-4e1cc8ee786b/resource/a1a8f97d-dd9e-48db-a24f-6d8f43caecc5/download/recurso.csv\", \"notes\": \"My dataset\", \"owner_org\": \"org_id_or_name\", \"last_modified\": \"2019-12-05T00:06:05.248676\", \"position\": 0, \"revision_id\": \"5418e9c8-f275-4053-a9c4-17cfaa98ba00\", \"resource_type\": null}}'\n"
     ]
    }
   ],
   "source": [
    "import requests\n",
    "response = requests.post('http://15.188.12.227/api/action/resource_create',\n",
    "              data={\"package_id\":\"test2\",\n",
    "                    'name': 'recursos',\n",
    "                    'notes': 'My dataset',\n",
    "                    'owner_org': 'org_id_or_name'},\n",
    "              headers={\"X-CKAN-API-Key\": \"9187aeb6-011f-439c-bbfa-51acd912db3b\"},\n",
    "              files=[('upload', open('recurso.csv'))])\n",
    "print (response.content) \n",
    "    "
   ]
  },
  {
   "cell_type": "code",
   "execution_count": null,
   "metadata": {},
   "outputs": [],
   "source": []
  }
 ],
 "metadata": {
  "kernelspec": {
   "display_name": "Python 3",
   "language": "python",
   "name": "python3"
  },
  "language_info": {
   "codemirror_mode": {
    "name": "ipython",
    "version": 3
   },
   "file_extension": ".py",
   "mimetype": "text/x-python",
   "name": "python",
   "nbconvert_exporter": "python",
   "pygments_lexer": "ipython3",
   "version": "3.6.8"
  }
 },
 "nbformat": 4,
 "nbformat_minor": 2
}
